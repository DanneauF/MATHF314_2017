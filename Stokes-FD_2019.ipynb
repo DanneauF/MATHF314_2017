{
 "cells": [
  {
   "cell_type": "markdown",
   "metadata": {},
   "source": [
    "## PHYS-F-302 : Mécanique Quantique, partie numérique\n",
    "\n",
    "Florian Danneau"
   ]
  },
  {
   "cell_type": "markdown",
   "metadata": {},
   "source": [
    "Nous allons décrire le flux de Stokes dans une cavité carrée en résolvant une équation biharmonique. Le flux de Stokes nous permet de simplifier les équations de Navier-Stokes, en éliminant la non-linéarité. "
   ]
  },
  {
   "cell_type": "markdown",
   "metadata": {},
   "source": [
    "Il faut tout d'abord discrétiser une équation biharmonique :\n",
    "\n",
    "\\begin{equation}\n",
    "\\nabla^{4}\\psi = 0\n",
    "\\end{equation}\n"
   ]
  },
  {
   "cell_type": "markdown",
   "metadata": {},
   "source": [
    "On a donc :\n",
    "\n",
    "\\begin{equation}\n",
    "\\nabla^{2}(\\nabla^{2}\\psi) = 0\n",
    "\\end{equation}\n",
    "\n",
    "\\begin{equation}\n",
    "\\partial_{x}^{4}\\psi + \\partial_{y}^{4}\\psi + 2\\partial_{x}\\partial_{y}\\psi = 0 \n",
    "\\end{equation}"
   ]
  },
  {
   "cell_type": "markdown",
   "metadata": {},
   "source": [
    "Maintenant, nous allons la discrétiser :\n",
    "    \n",
    "\\begin{equation}\n",
    "\\partial_{x}^{4}\\psi = \\dfrac{\\psi[i-2,j]-4\\psi[i-1,j] + 6\\psi[i,j]-4\\psi[i+1,j]+ \\psi[i+2,j]}{dx^{4}}\n",
    "\\end{equation}\n",
    "\n",
    "\\begin{equation}\n",
    "\\partial_{y}^{4}\\psi = \\dfrac{\\psi[i,j-2]-4\\psi[i,j-1] + 6\\psi[i,j]-4\\psi[i,j+1]+ \\psi[i,j+2]}{dy^{4}}\n",
    "\\end{equation}\n",
    "\n",
    "\\begin{equation}\n",
    "\\partial_{x}^{2}\\partial_{y}^{2}\\psi = \\dfrac{\\psi[i-1,j+1]-2\\psi[i,j+1] + \\psi[i+1,j+1]-2\\psi[i-1,j]+ 4\\psi[i,j]-2\\psi[i+1,j]+\\psi[i-1,j-1]-2\\psi[i,j-1]+\\psi[i+1,j-1]}{dx^{2}dy^{2}} \n",
    "\\end{equation}"
   ]
  },
  {
   "cell_type": "markdown",
   "metadata": {},
   "source": [
    "\\begin{equation}\n",
    "\\nabla^{4}\\psi = \\dfrac{\\psi[i-2,j]-4\\psi[i-1,j] + 6\\psi[i,j]-4\\psi[i+1,j]+ \\psi[i+2,j]}{dx^{4}} + \\dfrac{\\psi[i,j-2]-4\\psi[i,j-1] + 6\\psi[i,j]-4\\psi[i,j+1]+ \\psi[i,j+2]}{dy^{4}}+ 2\\dfrac{\\psi[i-1,j+1]-2\\psi[i,j+1] + \\psi[i+1,j+1]-2\\psi[i-1,j]+ 4\\psi[i,j]-2\\psi[i+1,j]+\\psi[i-1,j-1]-2\\psi[i,j-1]+\\psi[i+1,j-1]}{dx^{2}dy^{2}} = 0\n",
    "\\end{equation}"
   ]
  },
  {
   "cell_type": "markdown",
   "metadata": {},
   "source": [
    " Nous avons utilisé le lien suivant pour trouver les coefficients :\n",
    "https://en.wikipedia.org/wiki/Finite_difference_coefficient"
   ]
  },
  {
   "cell_type": "markdown",
   "metadata": {},
   "source": [
    "Nous importons ce dont nous avons besoin pour résoudre notre problème."
   ]
  },
  {
   "cell_type": "code",
   "execution_count": 231,
   "metadata": {},
   "outputs": [],
   "source": [
    "import matplotlib.pyplot as plt\n",
    "import numpy\n",
    "import scipy.sparse as sp\n",
    "import scipy.sparse.linalg\n",
    "from math import pi, cos, sin\n",
    "%matplotlib inline\n",
    "from matplotlib import rcParams \n",
    "rcParams['font.family'] = 'serif'\n",
    "rcParams['font.size'] = 16"
   ]
  },
  {
   "cell_type": "markdown",
   "metadata": {},
   "source": [
    "On va également utiliser les paramètres de discrétisation donnés dans le MOOC."
   ]
  },
  {
   "cell_type": "code",
   "execution_count": 232,
   "metadata": {},
   "outputs": [],
   "source": [
    "nx = 41\n",
    "ny = 41\n",
    "\n",
    "l = 1.\n",
    "h = 1.\n",
    "\n",
    "dx = l/(nx-1)\n",
    "dy = h/(ny-1)\n",
    "\n",
    "l1_target = 1e-8\n",
    "\n",
    "x  = numpy.linspace(0,l,nx)\n",
    "y  = numpy.linspace(0,h,ny)\n",
    "X,Y = numpy.meshgrid(x,y)\n",
    "\n",
    "b = numpy.zeros((nx,ny))\n",
    "\n",
    "p_i = numpy.zeros((nx,ny))\n"
   ]
  },
  {
   "cell_type": "code",
   "execution_count": 233,
   "metadata": {},
   "outputs": [],
   "source": [
    "def L1norm(new, old):\n",
    "    norm = numpy.sum(numpy.abs(new-old))\n",
    "    return norm"
   ]
  },
  {
   "cell_type": "markdown",
   "metadata": {},
   "source": [
    "Pour implémenter nos conditions aux bords, nous allons d'abord les discrétiser à l'aide du lien wikipédia."
   ]
  },
  {
   "cell_type": "markdown",
   "metadata": {},
   "source": [
    "On a donc  :\n",
    "\n",
    "\\begin{equation}\n",
    "\\partial_{x} \\psi = \\dfrac{\\dfrac{-3}{2}\\psi[i,j] + 2\\psi[i,j+1] \\dfrac{-1}{2} \\psi[i,j+2]}{dx}\n",
    "\\end{equation}\n",
    "\n",
    "\\begin{equation}\n",
    "\\partial_{y} \\psi = \\dfrac{\\dfrac{-3}{2}\\psi[i,j] + 2\\psi[i+1,j] \\dfrac{-1}{2} \\psi[i+2,j]}{dy}\n",
    "\\end{equation}\n",
    "qui sont les conditions de discrétisation forward du problème."
   ]
  },
  {
   "cell_type": "markdown",
   "metadata": {},
   "source": [
    "Dès lors, on peut implémenter nos conditions aux bords comme suit :"
   ]
  },
  {
   "cell_type": "markdown",
   "metadata": {},
   "source": [
    "On commence par les conditions sur les dérivées de $\\psi$ , càd $\\partial_{x} \\psi$ et $\\partial_{y} \\psi$"
   ]
  },
  {
   "cell_type": "code",
   "execution_count": 234,
   "metadata": {},
   "outputs": [],
   "source": [
    "cond1 = ((-3/2)*p_i[:,0] + 2*p_i[:,1] -(1/2)*p_i[:,2])/dx == 0 #forward pour le côté vertical droit\n",
    "cond2 = ((-3/2)*p_i[:,-1] + 2*p_i[:,0] -(1/2)*p_i[:,1])/dx == 0 #forward pour le côté vertical gauche\n",
    "cond3 = ((-3/2)*p_i[0,:] + 2*p_i[1,:] -(1/2)*p_i[2,:])/dy == 0 #forward pour le côté horizontal bas\n",
    "cond4 = ((-3/2)*p_i[-1,:] + 2*p_i[0,:] -(1/2)*p_i[1,:])/dy == 1 #forward pour le côté horizontal haut"
   ]
  },
  {
   "cell_type": "markdown",
   "metadata": {},
   "source": [
    "Ensuite on implémente celles sur $\\psi$"
   ]
  },
  {
   "cell_type": "code",
   "execution_count": 235,
   "metadata": {},
   "outputs": [],
   "source": [
    "p_i[:,0] = 0 # (1)\n",
    "p_i[:,-1] = 0 # (2)\n",
    "p_i[0,:] = 0 # (3)\n",
    "p_i[-1,:] = 0 # (4)"
   ]
  },
  {
   "cell_type": "markdown",
   "metadata": {},
   "source": [
    "Or avec les conditions (1) et (2), on tire de cond2 que $p_i [:,1] = 0$  et donc de cond1 que $p_i [:,2] = 0$ également. \n",
    "Avec (3) et (4), on tire de cond4 que $p_i [1,:] = -2dy$ et finalement de cond3 on a que $ p_i [2,:] = -8dy$.\n"
   ]
  },
  {
   "cell_type": "markdown",
   "metadata": {},
   "source": [
    "Donc : "
   ]
  },
  {
   "cell_type": "code",
   "execution_count": 236,
   "metadata": {},
   "outputs": [
    {
     "name": "stdout",
     "output_type": "stream",
     "text": [
      "[[ 0.    0.    0.   ...  0.    0.    0.  ]\n",
      " [ 0.   -0.05 -0.05 ... -0.05 -0.05  0.  ]\n",
      " [ 0.   -0.2  -0.2  ... -0.2  -0.2   0.  ]\n",
      " ...\n",
      " [ 0.    0.    0.   ...  0.    0.    0.  ]\n",
      " [ 0.    0.    0.   ...  0.    0.    0.  ]\n",
      " [ 0.    0.    0.   ...  0.    0.    0.  ]]\n"
     ]
    }
   ],
   "source": [
    "p_i[1,:] = -2*dy\n",
    "p_i[2,:] = -8*dy\n",
    "# On remet les conditions aux bords sur psi pour \"coller\" au problème \n",
    "p_i[0,:] = 0\n",
    "p_i[-1,:] = 0\n",
    "p_i[:,0] = 0\n",
    "p_i[:,-1] = 0\n",
    " \n",
    "print(p_i)"
   ]
  },
  {
   "cell_type": "markdown",
   "metadata": {},
   "source": [
    "On doit utiliser la méthode des gradients conjugués qui est donnée explicitement dans le mooc, pour résoudre l'équation. Cependant, comme nous travaillons avec une équation biharmonique, il faut modifier cette méthode des gradients conjugués pour qu'elle \"réponde\" à une discrétisation de degré 4."
   ]
  },
  {
   "cell_type": "code",
   "execution_count": 237,
   "metadata": {},
   "outputs": [],
   "source": [
    "def conjugate_gradient_2d(p, b, dx, dy, l2_target):\n",
    "    '''Performs cg relaxation\n",
    "    Assumes Dirichlet boundary conditions p=0\n",
    "    \n",
    "    Parameters:\n",
    "    ----------\n",
    "    p : 2D array of floats\n",
    "        Initial guess\n",
    "    b : 2D array of floats\n",
    "        Source term\n",
    "    dx: float\n",
    "        Mesh spacing in x direction\n",
    "    dy: float\n",
    "        Mesh spacing in y direction\n",
    "    l2_target: float\n",
    "        exit criterion\n",
    "        \n",
    "    Returns:\n",
    "    -------\n",
    "    p: 2D array of float\n",
    "        Distribution after relaxation\n",
    "    '''\n",
    "    ny, nx = p.shape\n",
    "    r  = numpy.zeros((ny,nx)) # residual\n",
    "    Ad  = numpy.zeros((ny,nx)) # to store result of matrix multiplication \n",
    "    \n",
    "    l2_norm = 1\n",
    "    iterations = 0\n",
    "    l2_conv = []\n",
    "    \n",
    "    # Step-0 We compute the initial residual and \n",
    "    # the first search direction is just this residual\n",
    "    r[2:-2,2:-2] = b[2:-2,2:-2] - (1*p[2:-2,:-4]+ 2*p[1:-3,1:-3]-8*p[2:-2,1:-3]+2*p[3:-1,1:-3]+1*p[:-4,2:-2]-8*p[1:-3,2:-2] +20*p[2:-2,2:-2]-8*p[3:-1,2:-2] +1*p[4:,2:-2]+2*p[1:-3,3:-1]-8*p[2:-2,3:-1]+2*p[3:-1,3:-1]+1*p[2:-2,4:])/dx**4\n",
    "    d = r.copy()\n",
    "    rho = numpy.sum(r*r)\n",
    "    Ad[2:-2,2:-2] = (+1)*(1*d[2:-2,:-4]+ 2*d[1:-3,1:-3]-8*d[2:-2,1:-3]+2*d[3:-1,1:-3]+1*d[:-4,2:-2]-8*d[1:-3,2:-2] +20*d[2:-2,2:-2]-8*d[3:-1,2:-2] +1*d[4:,2:-2]+2*d[1:-3,3:-1]-8*d[2:-2,3:-1]+2*d[3:-1,3:-1]+1*d[2:-2,4:])/dx**4\n",
    "    sigma = numpy.sum(d*Ad)\n",
    "    \n",
    "    # Iterations\n",
    "    while l2_norm > l2_target:\n",
    "\n",
    "        pk = p.copy()\n",
    "        rk = r.copy()\n",
    "        dk = d.copy()\n",
    "        \n",
    "        alpha = rho/sigma\n",
    "\n",
    "        p = pk + alpha*dk\n",
    "        r = rk- alpha*Ad\n",
    "        \n",
    "        rhop1 = numpy.sum(r*r)\n",
    "        beta = rhop1 / rho\n",
    "        rho = rhop1\n",
    "        \n",
    "        d = r + beta*dk\n",
    "        Ad[2:-2,2:-2] = (+1)*(1*d[2:-2,:-4]+ 2*d[1:-3,1:-3]-8*d[2:-2,1:-3]+2*d[3:-1,1:-3]+1*d[:-4,2:-2]-8*d[1:-3,2:-2] +20*d[2:-2,2:-2]-8*d[3:-1,2:-2] +1*d[4:,2:-2]+2*d[1:-3,3:-1]-8*d[2:-2,3:-1]+2*d[3:-1,3:-1]+1*d[2:-2,4:])/dx**4\n",
    "        sigma = numpy.sum(d*Ad)\n",
    "        \n",
    "        # BCs are automatically enforced\n",
    "        \n",
    "        l2_norm = L2_rel_error(pk,p)\n",
    "        iterations += 1\n",
    "        l2_conv.append(l2_norm)\n",
    "    \n",
    "    print('Number of CG iterations: {0:d}'.format(iterations))\n",
    "    return p, l2_conv     "
   ]
  },
  {
   "cell_type": "code",
   "execution_count": 238,
   "metadata": {},
   "outputs": [
    {
     "name": "stdout",
     "output_type": "stream",
     "text": [
      "Number of CG iterations: 609\n"
     ]
    }
   ],
   "source": [
    "p, l1_conv = conjugate_gradient_2d(p_i.copy(), b, dx, dy, l1_target)"
   ]
  },
  {
   "cell_type": "code",
   "execution_count": 239,
   "metadata": {},
   "outputs": [
    {
     "name": "stdout",
     "output_type": "stream",
     "text": [
      "[[ 0.00000000e+00  0.00000000e+00  0.00000000e+00 ...  0.00000000e+00\n",
      "   0.00000000e+00  0.00000000e+00]\n",
      " [ 0.00000000e+00 -5.00000000e-02 -5.00000000e-02 ... -5.00000000e-02\n",
      "  -5.00000000e-02  0.00000000e+00]\n",
      " [ 0.00000000e+00 -2.00000000e-01 -1.36526598e-01 ... -1.36526598e-01\n",
      "  -2.00000000e-01  0.00000000e+00]\n",
      " ...\n",
      " [ 0.00000000e+00  0.00000000e+00  3.65117485e-06 ...  3.65121391e-06\n",
      "   0.00000000e+00  0.00000000e+00]\n",
      " [ 0.00000000e+00  0.00000000e+00  0.00000000e+00 ...  0.00000000e+00\n",
      "   0.00000000e+00  0.00000000e+00]\n",
      " [ 0.00000000e+00  0.00000000e+00  0.00000000e+00 ...  0.00000000e+00\n",
      "   0.00000000e+00  0.00000000e+00]]\n"
     ]
    }
   ],
   "source": [
    "print(p)"
   ]
  },
  {
   "cell_type": "code",
   "execution_count": 240,
   "metadata": {},
   "outputs": [
    {
     "data": {
      "text/plain": [
       "<matplotlib.image.AxesImage at 0x1b241c5f0f0>"
      ]
     },
     "execution_count": 240,
     "metadata": {},
     "output_type": "execute_result"
    },
    {
     "data": {
      "image/png": "[encoded data removed]",
      "text/plain": [
       "<Figure size 432x288 with 1 Axes>"
      ]
     },
     "metadata": {
      "needs_background": "light"
     },
     "output_type": "display_data"
    }
   ],
   "source": [
    "plt.imshow(p)"
   ]
  },
  {
   "cell_type": "markdown",
   "metadata": {},
   "source": [
    "Il ne nous reste plus qu'à calculer la valeur de la fonction de flux $\\psi$ après qu'elle ait atteint son état stationnaire. Pour ce faire, on connait la valeur de $dx$ et $dy$. Donc il suffit de diviser les coordonées des points par $dx$ ou $dy$ pour trouver sa place dans notre matrice $p$"
   ]
  },
  {
   "cell_type": "markdown",
   "metadata": {},
   "source": [
    "Avec Python, nous savons que pour un élément de matrice, le premier indice donne la ligne et le deuxième donne la colonne. Or quand on prend un point (x,y), on donne d'abord la colonne puis la ligne. Donc pour trouver la valeur de la fonction aux 4 points demandés, il faut \"inverser\" le \"x\" et le \"y\" dans les coordonnées du point. \n",
    "\n",
    "Comme Python est plus précis qu'une calculette, on utilise le petit \"tip\" qui est de rajouter $0.5$ quand on calcule l'endroit des coordonnées dans la matrice $p$."
   ]
  },
  {
   "cell_type": "markdown",
   "metadata": {},
   "source": [
    "Quelle est la valeur de la fonction de flux $\\psi$ en (0.6;0.2)?"
   ]
  },
  {
   "cell_type": "code",
   "execution_count": 241,
   "metadata": {},
   "outputs": [
    {
     "data": {
      "text/plain": [
       "-0.2004765158871918"
      ]
     },
     "execution_count": 241,
     "metadata": {},
     "output_type": "execute_result"
    }
   ],
   "source": [
    "t = int(0.5 + 0.2/dy)\n",
    "q = int(0.5 + 0.6/dx)\n",
    "\n",
    "p[t,q]"
   ]
  },
  {
   "cell_type": "markdown",
   "metadata": {},
   "source": [
    "Quelle est la valeur de la fonction de flux $\\psi$ en (0.6;0.4)?"
   ]
  },
  {
   "cell_type": "code",
   "execution_count": 242,
   "metadata": {},
   "outputs": [
    {
     "data": {
      "text/plain": [
       "-0.15175443390279872"
      ]
     },
     "execution_count": 242,
     "metadata": {},
     "output_type": "execute_result"
    }
   ],
   "source": [
    "t = int(0.5 + 0.4/dy)\n",
    "q = int(0.5 + 0.6/dx)\n",
    "\n",
    "p[t,q]"
   ]
  },
  {
   "cell_type": "markdown",
   "metadata": {},
   "source": [
    "Quelle est la valeur de la fonction de flux $\\psi$ en (0.6;0.6)?"
   ]
  },
  {
   "cell_type": "code",
   "execution_count": 243,
   "metadata": {},
   "outputs": [
    {
     "data": {
      "text/plain": [
       "-0.07167156557869732"
      ]
     },
     "execution_count": 243,
     "metadata": {},
     "output_type": "execute_result"
    }
   ],
   "source": [
    "t = int(0.5 + 0.6/dy)\n",
    "q = int(0.5 + 0.6/dx)\n",
    "\n",
    "p[t,q]"
   ]
  },
  {
   "cell_type": "markdown",
   "metadata": {},
   "source": [
    "Quelle est la valeur de la fonction de flux $\\psi$ en (0.6;0.8)?"
   ]
  },
  {
   "cell_type": "code",
   "execution_count": 244,
   "metadata": {},
   "outputs": [
    {
     "data": {
      "text/plain": [
       "-0.018517742397612755"
      ]
     },
     "execution_count": 244,
     "metadata": {},
     "output_type": "execute_result"
    }
   ],
   "source": [
    "t = int(0.5 + 0.8/dy)\n",
    "q = int(0.5 + 0.6/dx)\n",
    "\n",
    "p[t,q]"
   ]
  },
  {
   "cell_type": "markdown",
   "metadata": {},
   "source": [
    "Finalement, nous venons de décrire l'évolution du flux de Stokes dans une cavité carrée avec certaines conditions initiales. On apprend que la situation évolue depuis les conditions initiales jusqu'à un état d'équilibre. Cet état d'équilibre est atteint en $609$ itérations. On a vu dans le MOOC que la méthode des gradients conjugués était la plus rapide. On peut donc dire que c'est la méthode la plus adéquate pour résoudre ce problème par rapport à celle de \"Jacobi\" et celle de \"steepest descent\" qui auraient demandé beaucoup plus d'itérations et donc un résultat qui aurait été obtenu en plus de temps (en comparant avec l'exemple du MOOC présent dans la leçon 5.4)."
   ]
  }
 ],
 "metadata": {
  "kernelspec": {
   "display_name": "Python 3",
   "language": "python",
   "name": "python3"
  },
  "language_info": {
   "codemirror_mode": {
    "name": "ipython",
    "version": 3
   },
   "file_extension": ".py",
   "mimetype": "text/x-python",
   "name": "python",
   "nbconvert_exporter": "python",
   "pygments_lexer": "ipython3",
   "version": "3.7.3"
  }
 },
 "nbformat": 4,
 "nbformat_minor": 2
}
